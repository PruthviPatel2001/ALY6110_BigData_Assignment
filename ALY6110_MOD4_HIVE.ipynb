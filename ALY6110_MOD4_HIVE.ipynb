{
  "nbformat": 4,
  "nbformat_minor": 0,
  "metadata": {
    "colab": {
      "provenance": []
    },
    "kernelspec": {
      "name": "python3",
      "display_name": "Python 3"
    },
    "language_info": {
      "name": "python"
    }
  },
  "cells": [
    {
      "cell_type": "code",
      "execution_count": null,
      "metadata": {
        "id": "9p6--CBGTGbk",
        "colab": {
          "base_uri": "https://localhost:8080/"
        },
        "outputId": "c862095a-1c2d-43d7-84c0-2dc8ccc9d944"
      },
      "outputs": [
        {
          "output_type": "stream",
          "name": "stdout",
          "text": [
            "Collecting pyspark\n",
            "  Downloading pyspark-3.5.1.tar.gz (317.0 MB)\n",
            "\u001b[2K     \u001b[90m━━━━━━━━━━━━━━━━━━━━━━━━━━━━━━━━━━━━━━━━\u001b[0m \u001b[32m317.0/317.0 MB\u001b[0m \u001b[31m1.9 MB/s\u001b[0m eta \u001b[36m0:00:00\u001b[0m\n",
            "\u001b[?25h  Preparing metadata (setup.py) ... \u001b[?25l\u001b[?25hdone\n",
            "Requirement already satisfied: py4j==0.10.9.7 in /usr/local/lib/python3.10/dist-packages (from pyspark) (0.10.9.7)\n",
            "Building wheels for collected packages: pyspark\n",
            "  Building wheel for pyspark (setup.py) ... \u001b[?25l\u001b[?25hdone\n",
            "  Created wheel for pyspark: filename=pyspark-3.5.1-py2.py3-none-any.whl size=317488491 sha256=34b3a43ef40453351c5cf123860fbe31cdab464d8fafa947c114889da76a5a0c\n",
            "  Stored in directory: /root/.cache/pip/wheels/80/1d/60/2c256ed38dddce2fdd93be545214a63e02fbd8d74fb0b7f3a6\n",
            "Successfully built pyspark\n",
            "Installing collected packages: pyspark\n",
            "Successfully installed pyspark-3.5.1\n"
          ]
        }
      ],
      "source": [
        "!pip install pyspark\n"
      ]
    },
    {
      "cell_type": "code",
      "source": [
        "!pip install -q findspark"
      ],
      "metadata": {
        "id": "fJTg7a31UYEL"
      },
      "execution_count": null,
      "outputs": []
    },
    {
      "cell_type": "code",
      "source": [
        "import findspark\n",
        "findspark.init()\n",
        "from pyspark.sql import SparkSession\n",
        "spark = SparkSession.builder.master(\"local[*]\").enableHiveSupport().getOrCreate()"
      ],
      "metadata": {
        "id": "_mCBw1EMTaV1"
      },
      "execution_count": null,
      "outputs": []
    },
    {
      "cell_type": "code",
      "source": [
        "spark.sql(\"show databases\").show()"
      ],
      "metadata": {
        "colab": {
          "base_uri": "https://localhost:8080/"
        },
        "id": "uRUWMlwUUU2e",
        "outputId": "fa9cb83b-afc6-47be-9ddc-007f7f24c1a6"
      },
      "execution_count": null,
      "outputs": [
        {
          "output_type": "stream",
          "name": "stdout",
          "text": [
            "+---------+\n",
            "|namespace|\n",
            "+---------+\n",
            "|  default|\n",
            "+---------+\n",
            "\n"
          ]
        }
      ]
    },
    {
      "cell_type": "markdown",
      "source": [
        "**Create Database**"
      ],
      "metadata": {
        "id": "Gpl7ClQxUpJV"
      }
    },
    {
      "cell_type": "code",
      "source": [
        "spark.sql(\"CREATE DATABASE BostonHouse\")"
      ],
      "metadata": {
        "colab": {
          "base_uri": "https://localhost:8080/"
        },
        "id": "K3kUEvIYUe8a",
        "outputId": "2e7b8c28-36ae-42c9-9b04-a606ca146d74"
      },
      "execution_count": null,
      "outputs": [
        {
          "output_type": "execute_result",
          "data": {
            "text/plain": [
              "DataFrame[]"
            ]
          },
          "metadata": {},
          "execution_count": 6
        }
      ]
    },
    {
      "cell_type": "code",
      "source": [
        "spark.sql(\"show databases\").show()"
      ],
      "metadata": {
        "colab": {
          "base_uri": "https://localhost:8080/"
        },
        "id": "v1RlkEC5UsQ_",
        "outputId": "aece5c84-8522-473c-bd2b-9ad8411526d6"
      },
      "execution_count": null,
      "outputs": [
        {
          "output_type": "stream",
          "name": "stdout",
          "text": [
            "+-----------+\n",
            "|  namespace|\n",
            "+-----------+\n",
            "|bostonhouse|\n",
            "|    default|\n",
            "+-----------+\n",
            "\n"
          ]
        }
      ]
    },
    {
      "cell_type": "markdown",
      "source": [
        "**Load Data to Spark Cluster**"
      ],
      "metadata": {
        "id": "C46pglE9U7ZP"
      }
    },
    {
      "cell_type": "code",
      "source": [
        "dataset = spark.read.csv('BostonHousing.csv',inferSchema=True, header =True)\n",
        "dataset.show()"
      ],
      "metadata": {
        "colab": {
          "base_uri": "https://localhost:8080/"
        },
        "id": "Sa3D1WqJUt_N",
        "outputId": "05b12c98-f6a8-4e1e-bc96-34586bc3c533"
      },
      "execution_count": null,
      "outputs": [
        {
          "output_type": "stream",
          "name": "stdout",
          "text": [
            "+-------+----+-----+----+-----+-----+-----+------+---+---+-------+------+-----+----+\n",
            "|   crim|  zn|indus|chas|  nox|   rm|  age|   dis|rad|tax|ptratio|     b|lstat|medv|\n",
            "+-------+----+-----+----+-----+-----+-----+------+---+---+-------+------+-----+----+\n",
            "|0.00632|18.0| 2.31|   0|0.538|6.575| 65.2|  4.09|  1|296|   15.3| 396.9| 4.98|24.0|\n",
            "|0.02731| 0.0| 7.07|   0|0.469|6.421| 78.9|4.9671|  2|242|   17.8| 396.9| 9.14|21.6|\n",
            "|0.02729| 0.0| 7.07|   0|0.469|7.185| 61.1|4.9671|  2|242|   17.8|392.83| 4.03|34.7|\n",
            "|0.03237| 0.0| 2.18|   0|0.458|6.998| 45.8|6.0622|  3|222|   18.7|394.63| 2.94|33.4|\n",
            "|0.06905| 0.0| 2.18|   0|0.458|7.147| 54.2|6.0622|  3|222|   18.7| 396.9| 5.33|36.2|\n",
            "|0.02985| 0.0| 2.18|   0|0.458| 6.43| 58.7|6.0622|  3|222|   18.7|394.12| 5.21|28.7|\n",
            "|0.08829|12.5| 7.87|   0|0.524|6.012| 66.6|5.5605|  5|311|   15.2| 395.6|12.43|22.9|\n",
            "|0.14455|12.5| 7.87|   0|0.524|6.172| 96.1|5.9505|  5|311|   15.2| 396.9|19.15|27.1|\n",
            "|0.21124|12.5| 7.87|   0|0.524|5.631|100.0|6.0821|  5|311|   15.2|386.63|29.93|16.5|\n",
            "|0.17004|12.5| 7.87|   0|0.524|6.004| 85.9|6.5921|  5|311|   15.2|386.71| 17.1|18.9|\n",
            "|0.22489|12.5| 7.87|   0|0.524|6.377| 94.3|6.3467|  5|311|   15.2|392.52|20.45|15.0|\n",
            "|0.11747|12.5| 7.87|   0|0.524|6.009| 82.9|6.2267|  5|311|   15.2| 396.9|13.27|18.9|\n",
            "|0.09378|12.5| 7.87|   0|0.524|5.889| 39.0|5.4509|  5|311|   15.2| 390.5|15.71|21.7|\n",
            "|0.62976| 0.0| 8.14|   0|0.538|5.949| 61.8|4.7075|  4|307|   21.0| 396.9| 8.26|20.4|\n",
            "|0.63796| 0.0| 8.14|   0|0.538|6.096| 84.5|4.4619|  4|307|   21.0|380.02|10.26|18.2|\n",
            "|0.62739| 0.0| 8.14|   0|0.538|5.834| 56.5|4.4986|  4|307|   21.0|395.62| 8.47|19.9|\n",
            "|1.05393| 0.0| 8.14|   0|0.538|5.935| 29.3|4.4986|  4|307|   21.0|386.85| 6.58|23.1|\n",
            "| 0.7842| 0.0| 8.14|   0|0.538| 5.99| 81.7|4.2579|  4|307|   21.0|386.75|14.67|17.5|\n",
            "|0.80271| 0.0| 8.14|   0|0.538|5.456| 36.6|3.7965|  4|307|   21.0|288.99|11.69|20.2|\n",
            "| 0.7258| 0.0| 8.14|   0|0.538|5.727| 69.5|3.7965|  4|307|   21.0|390.95|11.28|18.2|\n",
            "+-------+----+-----+----+-----+-----+-----+------+---+---+-------+------+-----+----+\n",
            "only showing top 20 rows\n",
            "\n"
          ]
        }
      ]
    },
    {
      "cell_type": "markdown",
      "source": [
        "**Save dataset to a new table in Hive**"
      ],
      "metadata": {
        "id": "Iqa2huW4VDsN"
      }
    },
    {
      "cell_type": "code",
      "source": [
        "dataset.write.mode(\"overwrite\").saveAsTable(\"bostonhouse.boston_housing\")"
      ],
      "metadata": {
        "id": "5ohVIzBlU-T6"
      },
      "execution_count": null,
      "outputs": []
    },
    {
      "cell_type": "markdown",
      "source": [
        "**Task 1: Data Overview**"
      ],
      "metadata": {
        "id": "fr02WUYUVWqa"
      }
    },
    {
      "cell_type": "code",
      "source": [
        "# Top 5 rows from table\n",
        "spark.sql(\"select * from bostonhouse.boston_housing\").show(5)"
      ],
      "metadata": {
        "colab": {
          "base_uri": "https://localhost:8080/"
        },
        "id": "8-b1jrFzVKov",
        "outputId": "ab18acc8-41a6-4bd1-f8a0-c8407b40d72f"
      },
      "execution_count": null,
      "outputs": [
        {
          "output_type": "stream",
          "name": "stdout",
          "text": [
            "+-------+----+-----+----+-----+-----+----+------+---+---+-------+------+-----+----+\n",
            "|   crim|  zn|indus|chas|  nox|   rm| age|   dis|rad|tax|ptratio|     b|lstat|medv|\n",
            "+-------+----+-----+----+-----+-----+----+------+---+---+-------+------+-----+----+\n",
            "|0.00632|18.0| 2.31|   0|0.538|6.575|65.2|  4.09|  1|296|   15.3| 396.9| 4.98|24.0|\n",
            "|0.02731| 0.0| 7.07|   0|0.469|6.421|78.9|4.9671|  2|242|   17.8| 396.9| 9.14|21.6|\n",
            "|0.02729| 0.0| 7.07|   0|0.469|7.185|61.1|4.9671|  2|242|   17.8|392.83| 4.03|34.7|\n",
            "|0.03237| 0.0| 2.18|   0|0.458|6.998|45.8|6.0622|  3|222|   18.7|394.63| 2.94|33.4|\n",
            "|0.06905| 0.0| 2.18|   0|0.458|7.147|54.2|6.0622|  3|222|   18.7| 396.9| 5.33|36.2|\n",
            "+-------+----+-----+----+-----+-----+----+------+---+---+-------+------+-----+----+\n",
            "only showing top 5 rows\n",
            "\n"
          ]
        }
      ]
    },
    {
      "cell_type": "code",
      "source": [
        "# Check Total_Records\n",
        "spark.sql(\"select count(*) as Total_Records from bostonhouse.boston_housing\").show()"
      ],
      "metadata": {
        "colab": {
          "base_uri": "https://localhost:8080/"
        },
        "id": "DFhC0cF5VSAG",
        "outputId": "3ffc03e2-9f83-4776-9b2e-15d335ac5bc1"
      },
      "execution_count": null,
      "outputs": [
        {
          "output_type": "stream",
          "name": "stdout",
          "text": [
            "+-------------+\n",
            "|Total_Records|\n",
            "+-------------+\n",
            "|          506|\n",
            "+-------------+\n",
            "\n"
          ]
        }
      ]
    },
    {
      "cell_type": "markdown",
      "source": [
        "**Task 2: Descriptive Statistics**"
      ],
      "metadata": {
        "id": "BAPlCN7PVs5Z"
      }
    },
    {
      "cell_type": "code",
      "source": [
        "# Basic statistics (mean, standard deviation, min, max) for the \"medv\" (median home value) column.\n",
        "query = \"\"\"\n",
        "SELECT\n",
        "    AVG(medv) AS mean_of_medv,\n",
        "    STDDEV(medv) AS std_dev_of_medv,\n",
        "    MIN(medv) AS min_of_medv,\n",
        "    MAX(medv) AS max_of_medv\n",
        "FROM\n",
        "    bostonhouse.boston_housing\n",
        "    \"\"\"\n",
        "spark.sql(query).show()"
      ],
      "metadata": {
        "colab": {
          "base_uri": "https://localhost:8080/"
        },
        "id": "1vJcxQ6RVg0w",
        "outputId": "1b649449-8468-4303-ff03-8a8f7dce4b2d"
      },
      "execution_count": null,
      "outputs": [
        {
          "output_type": "stream",
          "name": "stdout",
          "text": [
            "+------------------+-----------------+-----------+-----------+\n",
            "|      mean_of_medv|  std_dev_of_medv|min_of_medv|max_of_medv|\n",
            "+------------------+-----------------+-----------+-----------+\n",
            "|22.532806324110698|9.197104087379815|        5.0|       50.0|\n",
            "+------------------+-----------------+-----------+-----------+\n",
            "\n"
          ]
        }
      ]
    },
    {
      "cell_type": "code",
      "source": [
        "#The mean \"rm\" (average number of rooms per dwelling).\n",
        "query = \"\"\"\n",
        "SELECT\n",
        "    AVG(rm) AS mean_of_rm\n",
        "FROM\n",
        "    bostonhouse.boston_housing\n",
        "    \"\"\"\n",
        "spark.sql(query).show()"
      ],
      "metadata": {
        "colab": {
          "base_uri": "https://localhost:8080/"
        },
        "id": "XyBfb9mgV_al",
        "outputId": "6a2ea822-6ea3-491f-851c-63300d7fc316"
      },
      "execution_count": null,
      "outputs": [
        {
          "output_type": "stream",
          "name": "stdout",
          "text": [
            "+-----------------+\n",
            "|       mean_of_rm|\n",
            "+-----------------+\n",
            "|6.284634387351787|\n",
            "+-----------------+\n",
            "\n"
          ]
        }
      ]
    },
    {
      "cell_type": "markdown",
      "source": [
        "**Task 3: Data Exploration**"
      ],
      "metadata": {
        "id": "nORBgp6OWUpc"
      }
    },
    {
      "cell_type": "code",
      "source": [
        "# Property with the highest crime rate (\"crim\"). Provide details about this property.\n",
        "query = \"\"\"\n",
        "SELECT\n",
        "    *\n",
        "FROM\n",
        "    bostonhouse.boston_housing\n",
        "WHERE\n",
        "    crim = (\n",
        "        SELECT\n",
        "            MAX(crim)\n",
        "        FROM\n",
        "            bostonhouse.boston_housing\n",
        "    )\n",
        "\"\"\"\n",
        "spark.sql(query).show()"
      ],
      "metadata": {
        "colab": {
          "base_uri": "https://localhost:8080/"
        },
        "id": "dCS4Y1sdWO_-",
        "outputId": "44e3a6cf-a9f0-47da-a883-6732bedb8957"
      },
      "execution_count": null,
      "outputs": [
        {
          "output_type": "stream",
          "name": "stdout",
          "text": [
            "+-------+---+-----+----+-----+-----+----+------+---+---+-------+-----+-----+----+\n",
            "|   crim| zn|indus|chas|  nox|   rm| age|   dis|rad|tax|ptratio|    b|lstat|medv|\n",
            "+-------+---+-----+----+-----+-----+----+------+---+---+-------+-----+-----+----+\n",
            "|88.9762|0.0| 18.1|   0|0.671|6.968|91.9|1.4165| 24|666|   20.2|396.9|17.21|10.4|\n",
            "+-------+---+-----+----+-----+-----+----+------+---+---+-------+-----+-----+----+\n",
            "\n"
          ]
        }
      ]
    },
    {
      "cell_type": "code",
      "source": [
        "#Property with the lowest median home value (\"medv\"). Include its details.\n",
        "query = \"\"\"\n",
        "SELECT\n",
        "    *\n",
        "FROM\n",
        "    bostonhouse.boston_housing\n",
        "WHERE\n",
        "    medv = (\n",
        "        SELECT\n",
        "            MIN(medv)\n",
        "        FROM\n",
        "            bostonhouse.boston_housing\n",
        "    )\n",
        "\"\"\"\n",
        "spark.sql(query).show()"
      ],
      "metadata": {
        "colab": {
          "base_uri": "https://localhost:8080/"
        },
        "id": "4Q1W9xpVWYDH",
        "outputId": "e8177273-2df1-4d40-cf49-99c0b84cf06a"
      },
      "execution_count": null,
      "outputs": [
        {
          "output_type": "stream",
          "name": "stdout",
          "text": [
            "+-------+---+-----+----+-----+-----+-----+------+---+---+-------+------+-----+----+\n",
            "|   crim| zn|indus|chas|  nox|   rm|  age|   dis|rad|tax|ptratio|     b|lstat|medv|\n",
            "+-------+---+-----+----+-----+-----+-----+------+---+---+-------+------+-----+----+\n",
            "|38.3518|0.0| 18.1|   0|0.693|5.453|100.0|1.4896| 24|666|   20.2| 396.9|30.59| 5.0|\n",
            "|67.9208|0.0| 18.1|   0|0.693|5.683|100.0|1.4254| 24|666|   20.2|384.97|22.98| 5.0|\n",
            "+-------+---+-----+----+-----+-----+-----+------+---+---+-------+------+-----+----+\n",
            "\n"
          ]
        }
      ]
    },
    {
      "cell_type": "markdown",
      "source": [
        "**Task 4: Data Distribution Analysis**"
      ],
      "metadata": {
        "id": "eQfSe0lCW161"
      }
    },
    {
      "cell_type": "code",
      "source": [
        "import matplotlib.pyplot as plt\n",
        "df = spark.table(\"bostonhouse.boston_housing\")\n",
        "\n",
        "\n",
        "age_values = df.select(\"age\").rdd.flatMap(lambda x: x).collect()\n",
        "\n",
        "\n",
        "plt.figure(figsize=(10, 6))\n",
        "plt.hist(age_values, bins=20, color='skyblue', edgecolor='black')\n",
        "plt.title('Distribution of Age in Boston Housing Dataset')\n",
        "plt.xlabel('Age')\n",
        "plt.ylabel('Frequency')\n",
        "plt.show()"
      ],
      "metadata": {
        "colab": {
          "base_uri": "https://localhost:8080/",
          "height": 564
        },
        "id": "MYhU6VBaW1Yu",
        "outputId": "f9954176-78aa-410d-a196-b65ccef07974"
      },
      "execution_count": null,
      "outputs": [
        {
          "output_type": "display_data",
          "data": {
            "text/plain": [
              "<Figure size 1000x600 with 1 Axes>"
            ],
            "image/png": "[encoded data removed]"
          },
          "metadata": {}
        }
      ]
    },
    {
      "cell_type": "code",
      "source": [
        "# Calculate and report the percentage of properties with a \"chas\" value of 1 (indicating proximity to the Charles River)\n",
        "query =\"\"\"\n",
        "    SELECT\n",
        "        (COUNT(*) FILTER (WHERE chas = 1) / COUNT(*)) * 100 AS percentage_with_chas_1\n",
        "    FROM\n",
        "        bostonhouse.boston_housing\n",
        "\"\"\"\n",
        "\n",
        "spark.sql(query).show()"
      ],
      "metadata": {
        "colab": {
          "base_uri": "https://localhost:8080/"
        },
        "id": "r6JzevP9XpVv",
        "outputId": "da83d8ac-1328-40d2-c103-91584d269b8f"
      },
      "execution_count": null,
      "outputs": [
        {
          "output_type": "stream",
          "name": "stdout",
          "text": [
            "+----------------------+\n",
            "|percentage_with_chas_1|\n",
            "+----------------------+\n",
            "|      6.91699604743083|\n",
            "+----------------------+\n",
            "\n"
          ]
        }
      ]
    },
    {
      "cell_type": "markdown",
      "source": [
        "**Task 5: Correlation Analysis**"
      ],
      "metadata": {
        "id": "WdVVwfPUYfI7"
      }
    },
    {
      "cell_type": "code",
      "source": [
        "#The correlation coefficient between \"rm\" and \"medv.\" The relationship between the average number of rooms and median home value.\n",
        "query = \"\"\"\n",
        "SELECT\n",
        "    CORR(rm, medv) AS correlation_coefficient\n",
        "FROM\n",
        "    bostonhouse.boston_housing\n",
        "\"\"\"\n",
        "spark.sql(query).show()\n",
        "\n",
        "if float(spark.sql(query).collect()[0][0]) > 0:\n",
        "    print(\"The relationship between the average number of rooms and median home value is positive.\")\n",
        "if float(spark.sql(query).collect()[0][0]) < 0:\n",
        "    print(\"The relationship between the average number of rooms and median home value is negative.\")\n"
      ],
      "metadata": {
        "colab": {
          "base_uri": "https://localhost:8080/"
        },
        "id": "Mk8vyzYYYCro",
        "outputId": "97c00f58-ee7f-45ec-8deb-8349c619d842"
      },
      "execution_count": null,
      "outputs": [
        {
          "output_type": "stream",
          "name": "stdout",
          "text": [
            "+-----------------------+\n",
            "|correlation_coefficient|\n",
            "+-----------------------+\n",
            "|     0.6953599470715401|\n",
            "+-----------------------+\n",
            "\n",
            "The relationship between the average number of rooms and median home value is positive.\n"
          ]
        }
      ]
    },
    {
      "cell_type": "code",
      "source": [
        "# Investigate if there is any correlation between \"ptratio\" (pupil-teacher ratio) and \"nox\" (nitrogen oxide concentration). Report your findings.\n",
        "query = \"\"\"\n",
        "SELECT\n",
        "    CORR(ptratio, nox) AS correlation_coefficient\n",
        "FROM\n",
        "    bostonhouse.boston_housing\n",
        "\"\"\"\n",
        "spark.sql(query).show()\n",
        "\n",
        "if float(spark.sql(query).collect()[0][0]) > 0:\n",
        "    print(\"There is a positive correlation between pupil-teacher ratio and nitrogen oxide concentration.\")\n",
        "if float(spark.sql(query).collect()[0][0]) < 0:\n",
        "    print(\"There is a negative correlation between pupil-teacher ratio and nitrogen oxide concentration.\")"
      ],
      "metadata": {
        "colab": {
          "base_uri": "https://localhost:8080/"
        },
        "id": "LohkJ2U-YuTn",
        "outputId": "24289b63-12da-45b7-a444-169eb25aae8a"
      },
      "execution_count": null,
      "outputs": [
        {
          "output_type": "stream",
          "name": "stdout",
          "text": [
            "+-----------------------+\n",
            "|correlation_coefficient|\n",
            "+-----------------------+\n",
            "|    0.18893267711276893|\n",
            "+-----------------------+\n",
            "\n",
            "There is a positive correlation between pupil-teacher ratio and nitrogen oxide concentration.\n"
          ]
        }
      ]
    },
    {
      "cell_type": "markdown",
      "source": [
        "**Task 6: Advanced Querying**"
      ],
      "metadata": {
        "id": "HErYKw9UcEnU"
      }
    },
    {
      "cell_type": "code",
      "source": [
        "# The top 5 neighborhoods with the highest median home values (\"medv\")\n",
        "query = \"\"\"\n",
        "SELECT *\n",
        "FROM bostonhouse.boston_housing\n",
        "ORDER BY medv DESC\n",
        "LIMIT 5\n",
        "\"\"\"\n",
        "\n",
        "\n",
        "spark.sql(query).show()"
      ],
      "metadata": {
        "colab": {
          "base_uri": "https://localhost:8080/"
        },
        "id": "zmBDc8Q6ZM5O",
        "outputId": "08dd08ea-9321-42ec-b216-53a57fdf6687"
      },
      "execution_count": null,
      "outputs": [
        {
          "output_type": "stream",
          "name": "stdout",
          "text": [
            "+-------+----+-----+----+-----+-----+----+------+---+---+-------+------+-----+----+\n",
            "|   crim|  zn|indus|chas|  nox|   rm| age|   dis|rad|tax|ptratio|     b|lstat|medv|\n",
            "+-------+----+-----+----+-----+-----+----+------+---+---+-------+------+-----+----+\n",
            "|1.51902| 0.0|19.58|   1|0.605|8.375|93.9| 2.162|  5|403|   14.7|388.45| 3.32|50.0|\n",
            "|0.01381|80.0| 0.46|   0|0.422|7.875|32.0|5.6484|  4|255|   14.4|394.23| 2.97|50.0|\n",
            "|2.01019| 0.0|19.58|   0|0.605|7.929|96.2|2.0459|  5|403|   14.7| 369.3|  3.7|50.0|\n",
            "|1.83377| 0.0|19.58|   1|0.605|7.802|98.2|2.0407|  5|403|   14.7|389.61| 1.92|50.0|\n",
            "|1.46336| 0.0|19.58|   0|0.605|7.489|90.8|1.9709|  5|403|   14.7|374.43| 1.73|50.0|\n",
            "+-------+----+-----+----+-----+-----+----+------+---+---+-------+------+-----+----+\n",
            "\n"
          ]
        }
      ]
    },
    {
      "cell_type": "code",
      "source": [
        "#The average property age for neighborhoods with a \"chas\" value of 1 compared to those with \"chas\" value of 0.\n",
        "\n",
        "query = \"\"\"\n",
        "SELECT\n",
        "    chas,\n",
        "    AVG(age) AS avg_age\n",
        "FROM\n",
        "    bostonhouse.boston_housing\n",
        "GROUP BY\n",
        "    chas\n",
        "\"\"\"\n",
        "spark.sql(query).show()\n"
      ],
      "metadata": {
        "colab": {
          "base_uri": "https://localhost:8080/"
        },
        "id": "qiaKpNMbcvKL",
        "outputId": "610e082b-10b4-4f30-dd07-21cc30a39755"
      },
      "execution_count": null,
      "outputs": [
        {
          "output_type": "stream",
          "name": "stdout",
          "text": [
            "+----+-----------------+\n",
            "|chas|          avg_age|\n",
            "+----+-----------------+\n",
            "|   1|77.50000000000001|\n",
            "|   0|67.91167728237794|\n",
            "+----+-----------------+\n",
            "\n"
          ]
        }
      ]
    },
    {
      "cell_type": "markdown",
      "source": [
        "**Task 7: Visualization**"
      ],
      "metadata": {
        "id": "ZBJX1UhUfdby"
      }
    },
    {
      "cell_type": "code",
      "source": [
        "#. Create a Hive view named \"property_age_view\" that includes the \"age\" and \"medv\" columns.\n",
        "\n",
        "create_view_query = \"\"\"\n",
        "CREATE VIEW IF NOT EXISTS property_age_view AS\n",
        "SELECT age, medv\n",
        "FROM bostonhouse.boston_housing\n",
        "\"\"\"\n",
        "spark.sql(create_view_query)\n",
        "\n"
      ],
      "metadata": {
        "colab": {
          "base_uri": "https://localhost:8080/"
        },
        "id": "caRxUOPafTcC",
        "outputId": "c1d521ee-164c-45cd-aaa1-0bc25a8c37a9"
      },
      "execution_count": null,
      "outputs": [
        {
          "output_type": "execute_result",
          "data": {
            "text/plain": [
              "DataFrame[]"
            ]
          },
          "metadata": {},
          "execution_count": 21
        }
      ]
    },
    {
      "cell_type": "code",
      "source": [
        "query = \"SELECT * FROM property_age_view\"\n",
        "property_age_view_df = spark.sql(query)\n",
        "property_age_view_df.show()"
      ],
      "metadata": {
        "colab": {
          "base_uri": "https://localhost:8080/"
        },
        "id": "TWCWGjSjfxXT",
        "outputId": "6b0ae673-6307-4ce1-bf6f-39f39911d759"
      },
      "execution_count": null,
      "outputs": [
        {
          "output_type": "stream",
          "name": "stdout",
          "text": [
            "+-----+----+\n",
            "|  age|medv|\n",
            "+-----+----+\n",
            "| 65.2|24.0|\n",
            "| 78.9|21.6|\n",
            "| 61.1|34.7|\n",
            "| 45.8|33.4|\n",
            "| 54.2|36.2|\n",
            "| 58.7|28.7|\n",
            "| 66.6|22.9|\n",
            "| 96.1|27.1|\n",
            "|100.0|16.5|\n",
            "| 85.9|18.9|\n",
            "| 94.3|15.0|\n",
            "| 82.9|18.9|\n",
            "| 39.0|21.7|\n",
            "| 61.8|20.4|\n",
            "| 84.5|18.2|\n",
            "| 56.5|19.9|\n",
            "| 29.3|23.1|\n",
            "| 81.7|17.5|\n",
            "| 36.6|20.2|\n",
            "| 69.5|18.2|\n",
            "+-----+----+\n",
            "only showing top 20 rows\n",
            "\n"
          ]
        }
      ]
    },
    {
      "cell_type": "code",
      "source": [
        "import seaborn as sns\n",
        "\n",
        "query = \"\"\"\n",
        "SELECT age, medv\n",
        "FROM property_age_view\n",
        "\"\"\"\n",
        "\n",
        "property_age_df = spark.sql(query)\n",
        "\n",
        "property_age_pandas_df = property_age_df.toPandas()\n",
        "\n",
        "plt.figure(figsize=(10, 6))\n",
        "sns.regplot(x='age', y='medv', data=property_age_pandas_df, scatter_kws={'alpha':0.5}, line_kws={'color': 'red'})\n",
        "plt.title('Age vs. Median Home Value')\n",
        "plt.xlabel('Property Age')\n",
        "plt.ylabel('Median Home Value')\n",
        "plt.grid(True)\n",
        "plt.show()"
      ],
      "metadata": {
        "colab": {
          "base_uri": "https://localhost:8080/",
          "height": 564
        },
        "id": "FWCL-vh-f-6c",
        "outputId": "914743b0-c4c5-47e9-c346-39b1bd435992"
      },
      "execution_count": null,
      "outputs": [
        {
          "output_type": "display_data",
          "data": {
            "text/plain": [
              "<Figure size 1000x600 with 1 Axes>"
            ],
            "image/png": "[encoded data removed]"
          },
          "metadata": {}
        }
      ]
    },
    {
      "cell_type": "markdown",
      "source": [
        "**Task 8: Outliers Detection**"
      ],
      "metadata": {
        "id": "zYa0ft8xhNJo"
      }
    },
    {
      "cell_type": "code",
      "source": [
        "# Write a query to identify and report properties with a \"crim\" value greater than 10\n",
        "query = \"\"\"\n",
        "SELECT *\n",
        "FROM bostonhouse.boston_housing\n",
        "WHERE crim > 10\n",
        "\"\"\"\n",
        "spark.sql(query).show()"
      ],
      "metadata": {
        "colab": {
          "base_uri": "https://localhost:8080/"
        },
        "id": "rGGFTyCvgSlU",
        "outputId": "8a39694a-6bb9-4b50-f32e-e4cf39843547"
      },
      "execution_count": null,
      "outputs": [
        {
          "output_type": "stream",
          "name": "stdout",
          "text": [
            "+-------+---+-----+----+-----+-----+-----+------+---+---+-------+------+-----+----+\n",
            "|   crim| zn|indus|chas|  nox|   rm|  age|   dis|rad|tax|ptratio|     b|lstat|medv|\n",
            "+-------+---+-----+----+-----+-----+-----+------+---+---+-------+------+-----+----+\n",
            "|13.5222|0.0| 18.1|   0|0.631|3.863|100.0|1.5106| 24|666|   20.2|131.42|13.33|23.1|\n",
            "|11.1081|0.0| 18.1|   0|0.668|4.906|100.0|1.1742| 24|666|   20.2| 396.9|34.77|13.8|\n",
            "|18.4982|0.0| 18.1|   0|0.668|4.138|100.0| 1.137| 24|666|   20.2| 396.9|37.97|13.8|\n",
            "|19.6091|0.0| 18.1|   0|0.671|7.313| 97.9|1.3163| 24|666|   20.2| 396.9|13.44|15.0|\n",
            "| 15.288|0.0| 18.1|   0|0.671|6.649| 93.3|1.3449| 24|666|   20.2|363.02|23.24|13.9|\n",
            "|23.6482|0.0| 18.1|   0|0.671| 6.38| 96.2|1.3861| 24|666|   20.2| 396.9|23.69|13.1|\n",
            "|17.8667|0.0| 18.1|   0|0.671|6.223|100.0|1.3861| 24|666|   20.2|393.74|21.78|10.2|\n",
            "|88.9762|0.0| 18.1|   0|0.671|6.968| 91.9|1.4165| 24|666|   20.2| 396.9|17.21|10.4|\n",
            "|15.8744|0.0| 18.1|   0|0.671|6.545| 99.1|1.5192| 24|666|   20.2| 396.9|21.08|10.9|\n",
            "|20.0849|0.0| 18.1|   0|  0.7|4.368| 91.2|1.4395| 24|666|   20.2|285.83|30.63| 8.8|\n",
            "|16.8118|0.0| 18.1|   0|  0.7|5.277| 98.1|1.4261| 24|666|   20.2| 396.9|30.81| 7.2|\n",
            "|24.3938|0.0| 18.1|   0|  0.7|4.652|100.0|1.4672| 24|666|   20.2| 396.9|28.28|10.5|\n",
            "|22.5971|0.0| 18.1|   0|  0.7|  5.0| 89.5|1.5184| 24|666|   20.2| 396.9|31.99| 7.4|\n",
            "|14.3337|0.0| 18.1|   0|  0.7| 4.88|100.0|1.5895| 24|666|   20.2|372.92|30.62|10.2|\n",
            "|11.5779|0.0| 18.1|   0|  0.7|5.036| 97.0|  1.77| 24|666|   20.2| 396.9|25.68| 9.7|\n",
            "|13.3598|0.0| 18.1|   0|0.693|5.887| 94.7|1.7821| 24|666|   20.2| 396.9|16.35|12.7|\n",
            "|38.3518|0.0| 18.1|   0|0.693|5.453|100.0|1.4896| 24|666|   20.2| 396.9|30.59| 5.0|\n",
            "|25.0461|0.0| 18.1|   0|0.693|5.987|100.0|1.5888| 24|666|   20.2| 396.9|26.77| 5.6|\n",
            "|14.2362|0.0| 18.1|   0|0.693|6.343|100.0|1.5741| 24|666|   20.2| 396.9|20.32| 7.2|\n",
            "|24.8017|0.0| 18.1|   0|0.693|5.349| 96.0|1.7028| 24|666|   20.2| 396.9|19.77| 8.3|\n",
            "+-------+---+-----+----+-----+-----+-----+------+---+---+-------+------+-----+----+\n",
            "only showing top 20 rows\n",
            "\n"
          ]
        }
      ]
    },
    {
      "cell_type": "code",
      "source": [
        "# Box Plot for identifying outliers\n",
        "query = \"\"\"\n",
        "SELECT crim\n",
        "FROM bostonhouse.boston_housing\n",
        "\"\"\"\n",
        "\n",
        "crime_rate_df = spark.sql(query)\n",
        "\n",
        "crime_rate_pandas_df = crime_rate_df.toPandas()\n",
        "\n",
        "plt.figure(figsize=(8, 6))\n",
        "sns.boxplot(y='crim', data=crime_rate_pandas_df, orient='v', color='cyan')\n",
        "plt.title('Box Plot of Crime Rate')\n",
        "plt.ylabel('Crime Rate')\n",
        "plt.grid(True)\n",
        "plt.show()"
      ],
      "metadata": {
        "colab": {
          "base_uri": "https://localhost:8080/",
          "height": 526
        },
        "id": "HBumO-UDhSwa",
        "outputId": "0c6be9fd-832d-4d40-aeba-3fdbf27c06f3"
      },
      "execution_count": null,
      "outputs": [
        {
          "output_type": "display_data",
          "data": {
            "text/plain": [
              "<Figure size 800x600 with 1 Axes>"
            ],
            "image/png": "[encoded data removed]"
          },
          "metadata": {}
        }
      ]
    },
    {
      "cell_type": "code",
      "source": [
        "# Task 9: Hypothesis Testing\n",
        "\n",
        "# Null Hypothesis (H₀): There is no statistically significant relationship between the average number of rooms (\"rm\") and the median home value (\"medv\").\n",
        "\n",
        "# Alternative Hypothesis (H₁): There is a statistically significant relationship between the average number of rooms (\"rm\") and the median home value (\"medv\").\n",
        "\n",
        "# Significance Level (α): 0.05\n"
      ],
      "metadata": {
        "id": "4uY4mh6chm17"
      },
      "execution_count": null,
      "outputs": []
    },
    {
      "cell_type": "code",
      "source": [
        "query = \"\"\"\n",
        "SELECT\n",
        "    corr(rm, medv) AS correlation_coefficient,\n",
        "    count(*) AS sample_size\n",
        "FROM\n",
        "    bostonhouse.boston_housing\n",
        "\"\"\"\n",
        "\n",
        "correlation_coefficient = spark.sql(query).collect()[0][0]\n",
        "\n",
        "alpha = 0.05\n",
        "\n",
        "if abs(correlation_coefficient) > 0 and abs(correlation_coefficient) < alpha:\n",
        "    print(f\"There is a statistically significant relationship (p-value < {alpha}) between 'rm' and 'medv'.\")\n",
        "    print(\"Reject the null hypothesis.\")\n",
        "else:\n",
        "    print(f\"There is no statistically significant relationship (p-value >= {alpha}) between 'rm' and 'medv'.\")\n",
        "    print(\"Fail to reject the null hypothesis.\")"
      ],
      "metadata": {
        "colab": {
          "base_uri": "https://localhost:8080/"
        },
        "id": "q7RNvsuuh-y5",
        "outputId": "432ff4a6-58d6-479a-bcf0-831c2823162a"
      },
      "execution_count": null,
      "outputs": [
        {
          "output_type": "stream",
          "name": "stdout",
          "text": [
            "+-----------------------+-----------+\n",
            "|correlation_coefficient|sample_size|\n",
            "+-----------------------+-----------+\n",
            "|     0.6953599470715401|        506|\n",
            "+-----------------------+-----------+\n",
            "\n",
            "There is no statistically significant relationship (p-value >= 0.05) between 'rm' and 'medv'.\n",
            "Fail to reject the null hypothesis.\n"
          ]
        }
      ]
    },
    {
      "cell_type": "code",
      "source": [],
      "metadata": {
        "id": "ghDltmEEibsE"
      },
      "execution_count": null,
      "outputs": []
    }
  ]
}